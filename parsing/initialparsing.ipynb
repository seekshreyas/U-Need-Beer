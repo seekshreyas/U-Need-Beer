{
 "metadata": {
  "name": "initialparsing"
 },
 "nbformat": 3,
 "nbformat_minor": 0,
 "worksheets": [
  {
   "cells": [
    {
     "cell_type": "code",
     "collapsed": false,
     "input": [
      "!head -1000  > \"../data/short_beer.txt\" > output "
     ],
     "language": "python",
     "metadata": {},
     "outputs": []
    },
    {
     "cell_type": "code",
     "collapsed": false,
     "input": [
      "import os\n",
      "import codecs\n",
      "from itertools import islice\n",
      "from collections import defaultdict\n",
      "import json\n",
      "import pandas as pd"
     ],
     "language": "python",
     "metadata": {},
     "outputs": []
    },
    {
     "cell_type": "code",
     "collapsed": false,
     "input": [
      "path = \"../data/BeerDump.csv\"\n",
      "import datetime\n",
      "import csv\n",
      "tmplist=list()\n",
      "writer = csv.writer(open('../data/Output2008.csv', 'wb'))\n",
      "from itertools import islice\n",
      "with open(path,'rb') as csvfile:\n",
      "    reader = csv.reader(csvfile, delimiter='\\t')\n",
      "    for row in islice(reader,1,None):\n",
      "        tmplist = row[:]\n",
      "        #print tmplist\n",
      "        if row[12]==\"\":\n",
      "            pass\n",
      "        else:\n",
      "            try:\n",
      "                if int((datetime.datetime.fromtimestamp(int(row[12])).strftime('%Y'))) > 2007:\n",
      "                    tmplist[12] = int((datetime.datetime.fromtimestamp(int(row[12])).strftime('%Y')))\n",
      "                    #print tmplist\n",
      "                    writer.writerow(tmplist)\n",
      "                else:\n",
      "                    pass\n",
      "            except:\n",
      "                print tmplist\n",
      "            "
     ],
     "language": "python",
     "metadata": {},
     "outputs": []
    },
    {
     "cell_type": "code",
     "collapsed": false,
     "input": [
      "path = \"/Users/sonali/Documents/Ischool/INFOVIZ/FinalProject/Files/test\"\n",
      "for filename in islice(os.listdir(path),None):\n",
      "    infilename = os.path.join(path, filename)\n",
      "    if (infilename == \"/Users/sonali/Documents/Ischool/INFOVIZ/FinalProject/Files/.DS_Store\"):\n",
      "        pass\n",
      "    else:\n",
      "        createjson(infilename)\n",
      "        #createcsvfile(infilename)"
     ],
     "language": "python",
     "metadata": {},
     "outputs": []
    },
    {
     "cell_type": "code",
     "collapsed": false,
     "input": [
      "def createcsvfile(name):\n",
      "    f = codecs.open(name)\n",
      "    d = defaultdict(list)\n",
      "    print name\n",
      "    for row in islice(f,None):\n",
      "        if row.strip()==\"\":\n",
      "            pass\n",
      "        else:\n",
      "            if row.split(\":\",1)[0] == 'review/text':\n",
      "                pass\n",
      "            else:\n",
      "                #To take the second part as the header e.g. \"review/beerId\" take only beerId as the header\n",
      "                h=(row.split(\":\",1)[0]).split(\"/\")[1]\n",
      "                d[h].append((row.split(\":\",1)[1]).strip(\"\\n\"))\n",
      "    df = pd.DataFrame(d)\n",
      "    df.to_csv(\"../data/BeerDump.csv\",sep=\"\\t\",mode='a',header='False')\n",
      "    "
     ],
     "language": "python",
     "metadata": {},
     "outputs": []
    },
    {
     "cell_type": "code",
     "collapsed": false,
     "input": [
      "d=recorddict()\n",
      "wholelist = list()"
     ],
     "language": "python",
     "metadata": {},
     "outputs": []
    },
    {
     "cell_type": "code",
     "collapsed": false,
     "input": [
      "def createjson(name):\n",
      "    f = codecs.open(name)\n",
      "    d = defaultdict(list)\n",
      "    recorddict=defaultdict()\n",
      "    print name\n",
      "    for row in islice(f,None):\n",
      "        if row.strip()==\"\":\n",
      "            recorddict.clear()\n",
      "        else:\n",
      "            if row.split(\":\",1)[0] == 'review/text':\n",
      "                pass\n",
      "            else:\n",
      "                #To take the second part as the header e.g. \"review/beerId\" take only beerId as the header\n",
      "                h=(row.split(\":\",1)[0]).split(\"/\")[1]\n",
      "                recorddict[h[0]].upadate({h[1]:(row.split(\":\",1)[1]).strip(\"\\n\")})\n",
      "               \n",
      "        wholelist.append(recorddict)         #d[h].append((row.split(\":\",1)[1]).strip(\"\\n\"))\n",
      "    wholelist\n",
      "    #df = pd.DataFrame(d)\n",
      "    #df.to_csv(\"/Users/sonali/Documents/Ischool/INFOVIZ/FinalProject/Files/Output/BeerDump.csv\",sep=\"\\t\",mode='a',header='False')\n",
      "    \n",
      "  "
     ],
     "language": "python",
     "metadata": {},
     "outputs": []
    },
    {
     "cell_type": "code",
     "collapsed": false,
     "input": [
      "import codecs\n",
      "from itertools import islice\n",
      "from collections import defaultdict\n",
      "import json\n",
      "import pandas as pd\n",
      "\n",
      "data_dir = \"/Users/sonali/Documents/Ischool/INFOVIZ/FinalProject/\"\n",
      "filename = data_dir + \"beer_small.txt\"\n",
      "f = codecs.open(filename)\n",
      "d = defaultdict(list)\n",
      "\n",
      "for row in islice(f, None):\n",
      "    if row.strip()==\"\":\n",
      "        pass\n",
      "    else:\n",
      "        if row.split(\":\",1)[0] == 'review/text':\n",
      "            pass\n",
      "        else:\n",
      "            #To take the second part as the header e.g. \"review/beerId\" take only beerId as the header\n",
      "            h=(row.split(\":\",1)[0]).split(\"/\")[1]\n",
      "            d[h].append((row.split(\":\",1)[1]).strip(\"\\n\"))\n",
      "df = pd.DataFrame(d)\n",
      "df.to_csv(\"test.csv\",sep=\"\\t\")\n",
      "#myfile = open(\"beer_json_dumpnew.json\",\"w\")      \n",
      "#myfile.write(json.dumps(d))\n",
      "#myfile.close()\n"
     ],
     "language": "python",
     "metadata": {},
     "outputs": []
    },
    {
     "cell_type": "code",
     "collapsed": false,
     "input": [],
     "language": "python",
     "metadata": {},
     "outputs": []
    }
   ],
   "metadata": {}
  }
 ]
}